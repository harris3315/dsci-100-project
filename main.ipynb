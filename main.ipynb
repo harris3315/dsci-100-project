{
 "cells": [
  {
   "cell_type": "markdown",
   "id": "e1d2d897-4a9d-4866-bf0c-e35259ed6ff3",
   "metadata": {},
   "source": [
    "# Age, Gender, and Player Experience and Data Creation in a Minecraft Server\n",
    "\n",
    "## Introduction\n",
    "\n",
    "The question this report deals with is what \"kinds\" of players, based off their age and played hours have the most sessions on the Minecraft server (i.e. how much data they create). \n"
   ]
  },
  {
   "cell_type": "code",
   "execution_count": 66,
   "id": "c0906763-e6a5-40cf-9a45-fe33dfb31ee9",
   "metadata": {},
   "outputs": [
    {
     "name": "stderr",
     "output_type": "stream",
     "text": [
      "── \u001b[1mAttaching packages\u001b[22m ────────────────────────────────────── tidymodels 1.1.1 ──\n",
      "\n",
      "\u001b[32m✔\u001b[39m \u001b[34mbroom       \u001b[39m 1.0.6     \u001b[32m✔\u001b[39m \u001b[34mrsample     \u001b[39m 1.2.1\n",
      "\u001b[32m✔\u001b[39m \u001b[34mdials       \u001b[39m 1.3.0     \u001b[32m✔\u001b[39m \u001b[34mtune        \u001b[39m 1.1.2\n",
      "\u001b[32m✔\u001b[39m \u001b[34minfer       \u001b[39m 1.0.7     \u001b[32m✔\u001b[39m \u001b[34mworkflows   \u001b[39m 1.1.4\n",
      "\u001b[32m✔\u001b[39m \u001b[34mmodeldata   \u001b[39m 1.4.0     \u001b[32m✔\u001b[39m \u001b[34mworkflowsets\u001b[39m 1.0.1\n",
      "\u001b[32m✔\u001b[39m \u001b[34mparsnip     \u001b[39m 1.2.1     \u001b[32m✔\u001b[39m \u001b[34myardstick   \u001b[39m 1.3.1\n",
      "\u001b[32m✔\u001b[39m \u001b[34mrecipes     \u001b[39m 1.1.0     \n",
      "\n",
      "── \u001b[1mConflicts\u001b[22m ───────────────────────────────────────── tidymodels_conflicts() ──\n",
      "\u001b[31m✖\u001b[39m \u001b[34mscales\u001b[39m::\u001b[32mdiscard()\u001b[39m           masks \u001b[34mpurrr\u001b[39m::discard()\n",
      "\u001b[31m✖\u001b[39m \u001b[34mdplyr\u001b[39m::\u001b[32mfilter()\u001b[39m             masks \u001b[34mstats\u001b[39m::filter()\n",
      "\u001b[31m✖\u001b[39m \u001b[34mrecipes\u001b[39m::\u001b[32mfixed()\u001b[39m            masks \u001b[34mstringr\u001b[39m::fixed()\n",
      "\u001b[31m✖\u001b[39m \u001b[34mparsnip\u001b[39m::\u001b[32mknit_engine_docs()\u001b[39m masks \u001b[34mtidyclust\u001b[39m::knit_engine_docs()\n",
      "\u001b[31m✖\u001b[39m \u001b[34mdplyr\u001b[39m::\u001b[32mlag()\u001b[39m                masks \u001b[34mstats\u001b[39m::lag()\n",
      "\u001b[31m✖\u001b[39m \u001b[34mparsnip\u001b[39m::\u001b[32mlist_md_problems()\u001b[39m masks \u001b[34mtidyclust\u001b[39m::list_md_problems()\n",
      "\u001b[31m✖\u001b[39m \u001b[34myardstick\u001b[39m::\u001b[32mspec()\u001b[39m           masks \u001b[34mreadr\u001b[39m::spec()\n",
      "\u001b[31m✖\u001b[39m \u001b[34mrecipes\u001b[39m::\u001b[32mstep()\u001b[39m             masks \u001b[34mstats\u001b[39m::step()\n",
      "\u001b[34m•\u001b[39m Learn how to get started at \u001b[32mhttps://www.tidymodels.org/start/\u001b[39m\n",
      "\n"
     ]
    }
   ],
   "source": [
    "library(tidyverse)\n",
    "library(tidyclust)\n",
    "library(tidymodels)"
   ]
  },
  {
   "cell_type": "markdown",
   "id": "ba9c1771-c395-4715-9684-a3d78d2cfb1d",
   "metadata": {},
   "source": [
    "These are the libraries necessary to perform our wrangling, clustering, and visualization processes."
   ]
  },
  {
   "cell_type": "code",
   "execution_count": 25,
   "id": "4a71c6f7-b8d7-4fab-a0e8-526bbf7f40b5",
   "metadata": {},
   "outputs": [
    {
     "name": "stderr",
     "output_type": "stream",
     "text": [
      "\u001b[1mRows: \u001b[22m\u001b[34m196\u001b[39m \u001b[1mColumns: \u001b[22m\u001b[34m7\u001b[39m\n",
      "\u001b[36m──\u001b[39m \u001b[1mColumn specification\u001b[22m \u001b[36m────────────────────────────────────────────────────────\u001b[39m\n",
      "\u001b[1mDelimiter:\u001b[22m \",\"\n",
      "\u001b[31mchr\u001b[39m (4): experience, hashedEmail, name, gender\n",
      "\u001b[32mdbl\u001b[39m (2): played_hours, Age\n",
      "\u001b[33mlgl\u001b[39m (1): subscribe\n",
      "\n",
      "\u001b[36mℹ\u001b[39m Use `spec()` to retrieve the full column specification for this data.\n",
      "\u001b[36mℹ\u001b[39m Specify the column types or set `show_col_types = FALSE` to quiet this message.\n",
      "\u001b[1mRows: \u001b[22m\u001b[34m1535\u001b[39m \u001b[1mColumns: \u001b[22m\u001b[34m5\u001b[39m\n",
      "\u001b[36m──\u001b[39m \u001b[1mColumn specification\u001b[22m \u001b[36m────────────────────────────────────────────────────────\u001b[39m\n",
      "\u001b[1mDelimiter:\u001b[22m \",\"\n",
      "\u001b[31mchr\u001b[39m (3): hashedEmail, start_time, end_time\n",
      "\u001b[32mdbl\u001b[39m (2): original_start_time, original_end_time\n",
      "\n",
      "\u001b[36mℹ\u001b[39m Use `spec()` to retrieve the full column specification for this data.\n",
      "\u001b[36mℹ\u001b[39m Specify the column types or set `show_col_types = FALSE` to quiet this message.\n"
     ]
    },
    {
     "data": {
      "text/html": [
       "<style>\n",
       ".dl-inline {width: auto; margin:0; padding: 0}\n",
       ".dl-inline>dt, .dl-inline>dd {float: none; width: auto; display: inline-block}\n",
       ".dl-inline>dt::after {content: \":\\0020\"; padding-right: .5ex}\n",
       ".dl-inline>dt:not(:first-of-type) {padding-left: .5ex}\n",
       "</style><dl class=dl-inline><dt>hashedEmail</dt><dd>FALSE</dd><dt>start_time</dt><dd>FALSE</dd><dt>end_time</dt><dd>TRUE</dd><dt>original_start_time</dt><dd>FALSE</dd><dt>original_end_time</dt><dd>TRUE</dd></dl>\n"
      ],
      "text/latex": [
       "\\begin{description*}\n",
       "\\item[hashedEmail] FALSE\n",
       "\\item[start\\textbackslash{}\\_time] FALSE\n",
       "\\item[end\\textbackslash{}\\_time] TRUE\n",
       "\\item[original\\textbackslash{}\\_start\\textbackslash{}\\_time] FALSE\n",
       "\\item[original\\textbackslash{}\\_end\\textbackslash{}\\_time] TRUE\n",
       "\\end{description*}\n"
      ],
      "text/markdown": [
       "hashedEmail\n",
       ":   FALSEstart_time\n",
       ":   FALSEend_time\n",
       ":   TRUEoriginal_start_time\n",
       ":   FALSEoriginal_end_time\n",
       ":   TRUE\n",
       "\n"
      ],
      "text/plain": [
       "        hashedEmail          start_time            end_time original_start_time \n",
       "              FALSE               FALSE                TRUE               FALSE \n",
       "  original_end_time \n",
       "               TRUE "
      ]
     },
     "metadata": {},
     "output_type": "display_data"
    },
    {
     "data": {
      "text/html": [
       "<table class=\"dataframe\">\n",
       "<caption>A tibble: 6 × 7</caption>\n",
       "<thead>\n",
       "\t<tr><th scope=col>experience</th><th scope=col>subscribe</th><th scope=col>hashedEmail</th><th scope=col>played_hours</th><th scope=col>name</th><th scope=col>gender</th><th scope=col>Age</th></tr>\n",
       "\t<tr><th scope=col>&lt;chr&gt;</th><th scope=col>&lt;lgl&gt;</th><th scope=col>&lt;chr&gt;</th><th scope=col>&lt;dbl&gt;</th><th scope=col>&lt;chr&gt;</th><th scope=col>&lt;chr&gt;</th><th scope=col>&lt;dbl&gt;</th></tr>\n",
       "</thead>\n",
       "<tbody>\n",
       "\t<tr><td>Pro    </td><td> TRUE</td><td>f6daba428a5e19a3d47574858c13550499be23603422e6a0ee9728f8b53e192d</td><td>30.3</td><td>Morgan   </td><td>Male  </td><td> 9</td></tr>\n",
       "\t<tr><td>Veteran</td><td> TRUE</td><td>f3c813577c458ba0dfef80996f8f32c93b6e8af1fa939732842f2312358a88e9</td><td> 3.8</td><td>Christian</td><td>Male  </td><td>17</td></tr>\n",
       "\t<tr><td>Veteran</td><td>FALSE</td><td>b674dd7ee0d24096d1c019615ce4d12b20fcbff12d79d3c5a9d2118eb7ccbb28</td><td> 0.0</td><td>Blake    </td><td>Male  </td><td>17</td></tr>\n",
       "\t<tr><td>Amateur</td><td> TRUE</td><td>23fe711e0e3b77f1da7aa221ab1192afe21648d47d2b4fa7a5a659ff443a0eb5</td><td> 0.7</td><td>Flora    </td><td>Female</td><td>21</td></tr>\n",
       "\t<tr><td>Regular</td><td> TRUE</td><td>7dc01f10bf20671ecfccdac23812b1b415acd42c2147cb0af4d48fcce2420f3e</td><td> 0.1</td><td>Kylie    </td><td>Male  </td><td>21</td></tr>\n",
       "\t<tr><td>Amateur</td><td> TRUE</td><td>f58aad5996a435f16b0284a3b267f973f9af99e7a89bee0430055a44fa92f977</td><td> 0.0</td><td>Adrian   </td><td>Female</td><td>17</td></tr>\n",
       "</tbody>\n",
       "</table>\n"
      ],
      "text/latex": [
       "A tibble: 6 × 7\n",
       "\\begin{tabular}{lllllll}\n",
       " experience & subscribe & hashedEmail & played\\_hours & name & gender & Age\\\\\n",
       " <chr> & <lgl> & <chr> & <dbl> & <chr> & <chr> & <dbl>\\\\\n",
       "\\hline\n",
       "\t Pro     &  TRUE & f6daba428a5e19a3d47574858c13550499be23603422e6a0ee9728f8b53e192d & 30.3 & Morgan    & Male   &  9\\\\\n",
       "\t Veteran &  TRUE & f3c813577c458ba0dfef80996f8f32c93b6e8af1fa939732842f2312358a88e9 &  3.8 & Christian & Male   & 17\\\\\n",
       "\t Veteran & FALSE & b674dd7ee0d24096d1c019615ce4d12b20fcbff12d79d3c5a9d2118eb7ccbb28 &  0.0 & Blake     & Male   & 17\\\\\n",
       "\t Amateur &  TRUE & 23fe711e0e3b77f1da7aa221ab1192afe21648d47d2b4fa7a5a659ff443a0eb5 &  0.7 & Flora     & Female & 21\\\\\n",
       "\t Regular &  TRUE & 7dc01f10bf20671ecfccdac23812b1b415acd42c2147cb0af4d48fcce2420f3e &  0.1 & Kylie     & Male   & 21\\\\\n",
       "\t Amateur &  TRUE & f58aad5996a435f16b0284a3b267f973f9af99e7a89bee0430055a44fa92f977 &  0.0 & Adrian    & Female & 17\\\\\n",
       "\\end{tabular}\n"
      ],
      "text/markdown": [
       "\n",
       "A tibble: 6 × 7\n",
       "\n",
       "| experience &lt;chr&gt; | subscribe &lt;lgl&gt; | hashedEmail &lt;chr&gt; | played_hours &lt;dbl&gt; | name &lt;chr&gt; | gender &lt;chr&gt; | Age &lt;dbl&gt; |\n",
       "|---|---|---|---|---|---|---|\n",
       "| Pro     |  TRUE | f6daba428a5e19a3d47574858c13550499be23603422e6a0ee9728f8b53e192d | 30.3 | Morgan    | Male   |  9 |\n",
       "| Veteran |  TRUE | f3c813577c458ba0dfef80996f8f32c93b6e8af1fa939732842f2312358a88e9 |  3.8 | Christian | Male   | 17 |\n",
       "| Veteran | FALSE | b674dd7ee0d24096d1c019615ce4d12b20fcbff12d79d3c5a9d2118eb7ccbb28 |  0.0 | Blake     | Male   | 17 |\n",
       "| Amateur |  TRUE | 23fe711e0e3b77f1da7aa221ab1192afe21648d47d2b4fa7a5a659ff443a0eb5 |  0.7 | Flora     | Female | 21 |\n",
       "| Regular |  TRUE | 7dc01f10bf20671ecfccdac23812b1b415acd42c2147cb0af4d48fcce2420f3e |  0.1 | Kylie     | Male   | 21 |\n",
       "| Amateur |  TRUE | f58aad5996a435f16b0284a3b267f973f9af99e7a89bee0430055a44fa92f977 |  0.0 | Adrian    | Female | 17 |\n",
       "\n"
      ],
      "text/plain": [
       "  experience subscribe\n",
       "1 Pro         TRUE    \n",
       "2 Veteran     TRUE    \n",
       "3 Veteran    FALSE    \n",
       "4 Amateur     TRUE    \n",
       "5 Regular     TRUE    \n",
       "6 Amateur     TRUE    \n",
       "  hashedEmail                                                      played_hours\n",
       "1 f6daba428a5e19a3d47574858c13550499be23603422e6a0ee9728f8b53e192d 30.3        \n",
       "2 f3c813577c458ba0dfef80996f8f32c93b6e8af1fa939732842f2312358a88e9  3.8        \n",
       "3 b674dd7ee0d24096d1c019615ce4d12b20fcbff12d79d3c5a9d2118eb7ccbb28  0.0        \n",
       "4 23fe711e0e3b77f1da7aa221ab1192afe21648d47d2b4fa7a5a659ff443a0eb5  0.7        \n",
       "5 7dc01f10bf20671ecfccdac23812b1b415acd42c2147cb0af4d48fcce2420f3e  0.1        \n",
       "6 f58aad5996a435f16b0284a3b267f973f9af99e7a89bee0430055a44fa92f977  0.0        \n",
       "  name      gender Age\n",
       "1 Morgan    Male    9 \n",
       "2 Christian Male   17 \n",
       "3 Blake     Male   17 \n",
       "4 Flora     Female 21 \n",
       "5 Kylie     Male   21 \n",
       "6 Adrian    Female 17 "
      ]
     },
     "metadata": {},
     "output_type": "display_data"
    },
    {
     "data": {
      "text/html": [
       "<table class=\"dataframe\">\n",
       "<caption>A tibble: 6 × 5</caption>\n",
       "<thead>\n",
       "\t<tr><th scope=col>hashedEmail</th><th scope=col>start_time</th><th scope=col>end_time</th><th scope=col>original_start_time</th><th scope=col>original_end_time</th></tr>\n",
       "\t<tr><th scope=col>&lt;chr&gt;</th><th scope=col>&lt;chr&gt;</th><th scope=col>&lt;chr&gt;</th><th scope=col>&lt;dbl&gt;</th><th scope=col>&lt;dbl&gt;</th></tr>\n",
       "</thead>\n",
       "<tbody>\n",
       "\t<tr><td>bfce39c89d6549f2bb94d8064d3ce69dc3d7e72b38f431d8aa0c4bf95ccee6bf</td><td>30/06/2024 18:12</td><td>30/06/2024 18:24</td><td>1.71977e+12</td><td>1.71977e+12</td></tr>\n",
       "\t<tr><td>36d9cbb4c6bc0c1a6911436d2da0d09ec625e43e6552f575d4acc9cf487c4686</td><td>17/06/2024 23:33</td><td>17/06/2024 23:46</td><td>1.71867e+12</td><td>1.71867e+12</td></tr>\n",
       "\t<tr><td>f8f5477f5a2e53616ae37421b1c660b971192bd8ff77e3398304c7ae42581fdc</td><td>25/07/2024 17:34</td><td>25/07/2024 17:57</td><td>1.72193e+12</td><td>1.72193e+12</td></tr>\n",
       "\t<tr><td>bfce39c89d6549f2bb94d8064d3ce69dc3d7e72b38f431d8aa0c4bf95ccee6bf</td><td>25/07/2024 03:22</td><td>25/07/2024 03:58</td><td>1.72188e+12</td><td>1.72188e+12</td></tr>\n",
       "\t<tr><td>36d9cbb4c6bc0c1a6911436d2da0d09ec625e43e6552f575d4acc9cf487c4686</td><td>25/05/2024 16:01</td><td>25/05/2024 16:12</td><td>1.71665e+12</td><td>1.71665e+12</td></tr>\n",
       "\t<tr><td>bfce39c89d6549f2bb94d8064d3ce69dc3d7e72b38f431d8aa0c4bf95ccee6bf</td><td>23/06/2024 15:08</td><td>23/06/2024 17:10</td><td>1.71916e+12</td><td>1.71916e+12</td></tr>\n",
       "</tbody>\n",
       "</table>\n"
      ],
      "text/latex": [
       "A tibble: 6 × 5\n",
       "\\begin{tabular}{lllll}\n",
       " hashedEmail & start\\_time & end\\_time & original\\_start\\_time & original\\_end\\_time\\\\\n",
       " <chr> & <chr> & <chr> & <dbl> & <dbl>\\\\\n",
       "\\hline\n",
       "\t bfce39c89d6549f2bb94d8064d3ce69dc3d7e72b38f431d8aa0c4bf95ccee6bf & 30/06/2024 18:12 & 30/06/2024 18:24 & 1.71977e+12 & 1.71977e+12\\\\\n",
       "\t 36d9cbb4c6bc0c1a6911436d2da0d09ec625e43e6552f575d4acc9cf487c4686 & 17/06/2024 23:33 & 17/06/2024 23:46 & 1.71867e+12 & 1.71867e+12\\\\\n",
       "\t f8f5477f5a2e53616ae37421b1c660b971192bd8ff77e3398304c7ae42581fdc & 25/07/2024 17:34 & 25/07/2024 17:57 & 1.72193e+12 & 1.72193e+12\\\\\n",
       "\t bfce39c89d6549f2bb94d8064d3ce69dc3d7e72b38f431d8aa0c4bf95ccee6bf & 25/07/2024 03:22 & 25/07/2024 03:58 & 1.72188e+12 & 1.72188e+12\\\\\n",
       "\t 36d9cbb4c6bc0c1a6911436d2da0d09ec625e43e6552f575d4acc9cf487c4686 & 25/05/2024 16:01 & 25/05/2024 16:12 & 1.71665e+12 & 1.71665e+12\\\\\n",
       "\t bfce39c89d6549f2bb94d8064d3ce69dc3d7e72b38f431d8aa0c4bf95ccee6bf & 23/06/2024 15:08 & 23/06/2024 17:10 & 1.71916e+12 & 1.71916e+12\\\\\n",
       "\\end{tabular}\n"
      ],
      "text/markdown": [
       "\n",
       "A tibble: 6 × 5\n",
       "\n",
       "| hashedEmail &lt;chr&gt; | start_time &lt;chr&gt; | end_time &lt;chr&gt; | original_start_time &lt;dbl&gt; | original_end_time &lt;dbl&gt; |\n",
       "|---|---|---|---|---|\n",
       "| bfce39c89d6549f2bb94d8064d3ce69dc3d7e72b38f431d8aa0c4bf95ccee6bf | 30/06/2024 18:12 | 30/06/2024 18:24 | 1.71977e+12 | 1.71977e+12 |\n",
       "| 36d9cbb4c6bc0c1a6911436d2da0d09ec625e43e6552f575d4acc9cf487c4686 | 17/06/2024 23:33 | 17/06/2024 23:46 | 1.71867e+12 | 1.71867e+12 |\n",
       "| f8f5477f5a2e53616ae37421b1c660b971192bd8ff77e3398304c7ae42581fdc | 25/07/2024 17:34 | 25/07/2024 17:57 | 1.72193e+12 | 1.72193e+12 |\n",
       "| bfce39c89d6549f2bb94d8064d3ce69dc3d7e72b38f431d8aa0c4bf95ccee6bf | 25/07/2024 03:22 | 25/07/2024 03:58 | 1.72188e+12 | 1.72188e+12 |\n",
       "| 36d9cbb4c6bc0c1a6911436d2da0d09ec625e43e6552f575d4acc9cf487c4686 | 25/05/2024 16:01 | 25/05/2024 16:12 | 1.71665e+12 | 1.71665e+12 |\n",
       "| bfce39c89d6549f2bb94d8064d3ce69dc3d7e72b38f431d8aa0c4bf95ccee6bf | 23/06/2024 15:08 | 23/06/2024 17:10 | 1.71916e+12 | 1.71916e+12 |\n",
       "\n"
      ],
      "text/plain": [
       "  hashedEmail                                                     \n",
       "1 bfce39c89d6549f2bb94d8064d3ce69dc3d7e72b38f431d8aa0c4bf95ccee6bf\n",
       "2 36d9cbb4c6bc0c1a6911436d2da0d09ec625e43e6552f575d4acc9cf487c4686\n",
       "3 f8f5477f5a2e53616ae37421b1c660b971192bd8ff77e3398304c7ae42581fdc\n",
       "4 bfce39c89d6549f2bb94d8064d3ce69dc3d7e72b38f431d8aa0c4bf95ccee6bf\n",
       "5 36d9cbb4c6bc0c1a6911436d2da0d09ec625e43e6552f575d4acc9cf487c4686\n",
       "6 bfce39c89d6549f2bb94d8064d3ce69dc3d7e72b38f431d8aa0c4bf95ccee6bf\n",
       "  start_time       end_time         original_start_time original_end_time\n",
       "1 30/06/2024 18:12 30/06/2024 18:24 1.71977e+12         1.71977e+12      \n",
       "2 17/06/2024 23:33 17/06/2024 23:46 1.71867e+12         1.71867e+12      \n",
       "3 25/07/2024 17:34 25/07/2024 17:57 1.72193e+12         1.72193e+12      \n",
       "4 25/07/2024 03:22 25/07/2024 03:58 1.72188e+12         1.72188e+12      \n",
       "5 25/05/2024 16:01 25/05/2024 16:12 1.71665e+12         1.71665e+12      \n",
       "6 23/06/2024 15:08 23/06/2024 17:10 1.71916e+12         1.71916e+12      "
      ]
     },
     "metadata": {},
     "output_type": "display_data"
    }
   ],
   "source": [
    "player_data <- read_csv(\"data/players.csv\")\n",
    "session_data <- read_csv(\"data/sessions.csv\")\n",
    "\n",
    "head(player_data)\n",
    "head(session_data)"
   ]
  },
  {
   "cell_type": "markdown",
   "id": "94042b4a-c604-4a48-a2a3-936b16202d28",
   "metadata": {},
   "source": [
    "We load in, and display the first six rows of each set of data we will be using. There are two sets we use:\n",
    "\n",
    "Player data:\n",
    "    - Their experience (Pro, Veteran, Regular, Amateur, or Beginner)\n",
    "    - Whether they're subscribed to the mailing list (TRUE or FALSE)\n",
    "    - Their hashed email\n",
    "    - Hours they have spent playing (>= 0,)\n",
    "    - Name\n",
    "    - Gender (male, female, non-binary, two-spirited, agender, other, or prefer not to answer)\n",
    "    - Age (a whole number, or NA)\n",
    "    \n",
    "and session data, which keeps a record of each session, including: \n",
    " - The player's hashed email,\n",
    " - Session start time and end time (local time) \n",
    " - Original start and end time (Unix timestamps)\n",
    "\n",
    "It is notable that in the session data, the end_time and original_end_time columns can contain NA values.\n",
    "\n",
    "## Methods\n",
    "First, we will clean our data, and select our necessary columns. For our player data, we will select the columns corresponding to age, played hours, and hashed email (so we can link each player to their sessions). We will also rename the column `Age` to `age` and `hashedEmail` to `hashed_email` for naming convention standardization. We'll also remove any data with an age of NA, as we'll be unable to use this data when we're creating clusters later on."
   ]
  },
  {
   "cell_type": "code",
   "execution_count": 76,
   "id": "3c1cc44d-10bb-4cff-9e98-a87d49ab17b0",
   "metadata": {},
   "outputs": [
    {
     "data": {
      "text/html": [
       "<table class=\"dataframe\">\n",
       "<caption>A tibble: 6 × 3</caption>\n",
       "<thead>\n",
       "\t<tr><th scope=col>hashed_email</th><th scope=col>age</th><th scope=col>played_hours</th></tr>\n",
       "\t<tr><th scope=col>&lt;chr&gt;</th><th scope=col>&lt;dbl&gt;</th><th scope=col>&lt;dbl&gt;</th></tr>\n",
       "</thead>\n",
       "<tbody>\n",
       "\t<tr><td>f6daba428a5e19a3d47574858c13550499be23603422e6a0ee9728f8b53e192d</td><td> 9</td><td>30.3</td></tr>\n",
       "\t<tr><td>f3c813577c458ba0dfef80996f8f32c93b6e8af1fa939732842f2312358a88e9</td><td>17</td><td> 3.8</td></tr>\n",
       "\t<tr><td>b674dd7ee0d24096d1c019615ce4d12b20fcbff12d79d3c5a9d2118eb7ccbb28</td><td>17</td><td> 0.0</td></tr>\n",
       "\t<tr><td>23fe711e0e3b77f1da7aa221ab1192afe21648d47d2b4fa7a5a659ff443a0eb5</td><td>21</td><td> 0.7</td></tr>\n",
       "\t<tr><td>7dc01f10bf20671ecfccdac23812b1b415acd42c2147cb0af4d48fcce2420f3e</td><td>21</td><td> 0.1</td></tr>\n",
       "\t<tr><td>f58aad5996a435f16b0284a3b267f973f9af99e7a89bee0430055a44fa92f977</td><td>17</td><td> 0.0</td></tr>\n",
       "</tbody>\n",
       "</table>\n"
      ],
      "text/latex": [
       "A tibble: 6 × 3\n",
       "\\begin{tabular}{lll}\n",
       " hashed\\_email & age & played\\_hours\\\\\n",
       " <chr> & <dbl> & <dbl>\\\\\n",
       "\\hline\n",
       "\t f6daba428a5e19a3d47574858c13550499be23603422e6a0ee9728f8b53e192d &  9 & 30.3\\\\\n",
       "\t f3c813577c458ba0dfef80996f8f32c93b6e8af1fa939732842f2312358a88e9 & 17 &  3.8\\\\\n",
       "\t b674dd7ee0d24096d1c019615ce4d12b20fcbff12d79d3c5a9d2118eb7ccbb28 & 17 &  0.0\\\\\n",
       "\t 23fe711e0e3b77f1da7aa221ab1192afe21648d47d2b4fa7a5a659ff443a0eb5 & 21 &  0.7\\\\\n",
       "\t 7dc01f10bf20671ecfccdac23812b1b415acd42c2147cb0af4d48fcce2420f3e & 21 &  0.1\\\\\n",
       "\t f58aad5996a435f16b0284a3b267f973f9af99e7a89bee0430055a44fa92f977 & 17 &  0.0\\\\\n",
       "\\end{tabular}\n"
      ],
      "text/markdown": [
       "\n",
       "A tibble: 6 × 3\n",
       "\n",
       "| hashed_email &lt;chr&gt; | age &lt;dbl&gt; | played_hours &lt;dbl&gt; |\n",
       "|---|---|---|\n",
       "| f6daba428a5e19a3d47574858c13550499be23603422e6a0ee9728f8b53e192d |  9 | 30.3 |\n",
       "| f3c813577c458ba0dfef80996f8f32c93b6e8af1fa939732842f2312358a88e9 | 17 |  3.8 |\n",
       "| b674dd7ee0d24096d1c019615ce4d12b20fcbff12d79d3c5a9d2118eb7ccbb28 | 17 |  0.0 |\n",
       "| 23fe711e0e3b77f1da7aa221ab1192afe21648d47d2b4fa7a5a659ff443a0eb5 | 21 |  0.7 |\n",
       "| 7dc01f10bf20671ecfccdac23812b1b415acd42c2147cb0af4d48fcce2420f3e | 21 |  0.1 |\n",
       "| f58aad5996a435f16b0284a3b267f973f9af99e7a89bee0430055a44fa92f977 | 17 |  0.0 |\n",
       "\n"
      ],
      "text/plain": [
       "  hashed_email                                                     age\n",
       "1 f6daba428a5e19a3d47574858c13550499be23603422e6a0ee9728f8b53e192d  9 \n",
       "2 f3c813577c458ba0dfef80996f8f32c93b6e8af1fa939732842f2312358a88e9 17 \n",
       "3 b674dd7ee0d24096d1c019615ce4d12b20fcbff12d79d3c5a9d2118eb7ccbb28 17 \n",
       "4 23fe711e0e3b77f1da7aa221ab1192afe21648d47d2b4fa7a5a659ff443a0eb5 21 \n",
       "5 7dc01f10bf20671ecfccdac23812b1b415acd42c2147cb0af4d48fcce2420f3e 21 \n",
       "6 f58aad5996a435f16b0284a3b267f973f9af99e7a89bee0430055a44fa92f977 17 \n",
       "  played_hours\n",
       "1 30.3        \n",
       "2  3.8        \n",
       "3  0.0        \n",
       "4  0.7        \n",
       "5  0.1        \n",
       "6  0.0        "
      ]
     },
     "metadata": {},
     "output_type": "display_data"
    }
   ],
   "source": [
    "clean_player_data <- player_data |>\n",
    "    rename(hashed_email = hashedEmail, age = Age) |>\n",
    "    select(hashed_email, age, played_hours) |> \n",
    "    drop_na(age)\n",
    "\n",
    "head(clean_player_data)"
   ]
  },
  {
   "cell_type": "markdown",
   "id": "61d2f697-3248-4396-9903-49f0b9aef10c",
   "metadata": {},
   "source": [
    "Next, we'll clean up our session data. We'll rename $hashedEmail$ to $hashed_email$, and only select that column; we're interested in the number of sessions, not the length of sessions."
   ]
  },
  {
   "cell_type": "code",
   "execution_count": 77,
   "id": "01001f7a-bbe8-4c30-bea9-a00eaaf9648f",
   "metadata": {},
   "outputs": [
    {
     "data": {
      "text/html": [
       "<table class=\"dataframe\">\n",
       "<caption>A tibble: 6 × 1</caption>\n",
       "<thead>\n",
       "\t<tr><th scope=col>hashed_email</th></tr>\n",
       "\t<tr><th scope=col>&lt;chr&gt;</th></tr>\n",
       "</thead>\n",
       "<tbody>\n",
       "\t<tr><td>bfce39c89d6549f2bb94d8064d3ce69dc3d7e72b38f431d8aa0c4bf95ccee6bf</td></tr>\n",
       "\t<tr><td>36d9cbb4c6bc0c1a6911436d2da0d09ec625e43e6552f575d4acc9cf487c4686</td></tr>\n",
       "\t<tr><td>f8f5477f5a2e53616ae37421b1c660b971192bd8ff77e3398304c7ae42581fdc</td></tr>\n",
       "\t<tr><td>bfce39c89d6549f2bb94d8064d3ce69dc3d7e72b38f431d8aa0c4bf95ccee6bf</td></tr>\n",
       "\t<tr><td>36d9cbb4c6bc0c1a6911436d2da0d09ec625e43e6552f575d4acc9cf487c4686</td></tr>\n",
       "\t<tr><td>bfce39c89d6549f2bb94d8064d3ce69dc3d7e72b38f431d8aa0c4bf95ccee6bf</td></tr>\n",
       "</tbody>\n",
       "</table>\n"
      ],
      "text/latex": [
       "A tibble: 6 × 1\n",
       "\\begin{tabular}{l}\n",
       " hashed\\_email\\\\\n",
       " <chr>\\\\\n",
       "\\hline\n",
       "\t bfce39c89d6549f2bb94d8064d3ce69dc3d7e72b38f431d8aa0c4bf95ccee6bf\\\\\n",
       "\t 36d9cbb4c6bc0c1a6911436d2da0d09ec625e43e6552f575d4acc9cf487c4686\\\\\n",
       "\t f8f5477f5a2e53616ae37421b1c660b971192bd8ff77e3398304c7ae42581fdc\\\\\n",
       "\t bfce39c89d6549f2bb94d8064d3ce69dc3d7e72b38f431d8aa0c4bf95ccee6bf\\\\\n",
       "\t 36d9cbb4c6bc0c1a6911436d2da0d09ec625e43e6552f575d4acc9cf487c4686\\\\\n",
       "\t bfce39c89d6549f2bb94d8064d3ce69dc3d7e72b38f431d8aa0c4bf95ccee6bf\\\\\n",
       "\\end{tabular}\n"
      ],
      "text/markdown": [
       "\n",
       "A tibble: 6 × 1\n",
       "\n",
       "| hashed_email &lt;chr&gt; |\n",
       "|---|\n",
       "| bfce39c89d6549f2bb94d8064d3ce69dc3d7e72b38f431d8aa0c4bf95ccee6bf |\n",
       "| 36d9cbb4c6bc0c1a6911436d2da0d09ec625e43e6552f575d4acc9cf487c4686 |\n",
       "| f8f5477f5a2e53616ae37421b1c660b971192bd8ff77e3398304c7ae42581fdc |\n",
       "| bfce39c89d6549f2bb94d8064d3ce69dc3d7e72b38f431d8aa0c4bf95ccee6bf |\n",
       "| 36d9cbb4c6bc0c1a6911436d2da0d09ec625e43e6552f575d4acc9cf487c4686 |\n",
       "| bfce39c89d6549f2bb94d8064d3ce69dc3d7e72b38f431d8aa0c4bf95ccee6bf |\n",
       "\n"
      ],
      "text/plain": [
       "  hashed_email                                                    \n",
       "1 bfce39c89d6549f2bb94d8064d3ce69dc3d7e72b38f431d8aa0c4bf95ccee6bf\n",
       "2 36d9cbb4c6bc0c1a6911436d2da0d09ec625e43e6552f575d4acc9cf487c4686\n",
       "3 f8f5477f5a2e53616ae37421b1c660b971192bd8ff77e3398304c7ae42581fdc\n",
       "4 bfce39c89d6549f2bb94d8064d3ce69dc3d7e72b38f431d8aa0c4bf95ccee6bf\n",
       "5 36d9cbb4c6bc0c1a6911436d2da0d09ec625e43e6552f575d4acc9cf487c4686\n",
       "6 bfce39c89d6549f2bb94d8064d3ce69dc3d7e72b38f431d8aa0c4bf95ccee6bf"
      ]
     },
     "metadata": {},
     "output_type": "display_data"
    }
   ],
   "source": [
    "clean_session_data <- session_data |>\n",
    "    rename(hashed_email = hashedEmail) |>\n",
    "    select(hashed_email)\n",
    "head(clean_session_data)"
   ]
  },
  {
   "cell_type": "markdown",
   "id": "cd10c4e9-5ca9-4fb8-9e19-f739cc6dd3cc",
   "metadata": {},
   "source": [
    "Recall that a hashed email is a unique identifier for each player. Since we're interested in the amount of sessions each player created, we'll use $summarise$ with $group_by$ to get the amount of sessions created by each player. "
   ]
  },
  {
   "cell_type": "code",
   "execution_count": 78,
   "id": "a0db2ee6-50a5-43ef-84a7-937254e0dd07",
   "metadata": {},
   "outputs": [
    {
     "data": {
      "text/html": [
       "<table class=\"dataframe\">\n",
       "<caption>A tibble: 6 × 2</caption>\n",
       "<thead>\n",
       "\t<tr><th scope=col>hashed_email</th><th scope=col>session_count</th></tr>\n",
       "\t<tr><th scope=col>&lt;chr&gt;</th><th scope=col>&lt;int&gt;</th></tr>\n",
       "</thead>\n",
       "<tbody>\n",
       "\t<tr><td>0088b5e134c3f0498a18c7ea6b8d77b4b0ff1636fc93355ccc95b45423367832</td><td> 2</td></tr>\n",
       "\t<tr><td>060aca80f8cfbf1c91553a72f4d5ec8034764b05ab59fe8e1cf0eee9a7b67967</td><td> 1</td></tr>\n",
       "\t<tr><td>0ce7bfa910d47fc91f21a7b3acd8f33bde6db57912ce0290fa0437ce0b97f387</td><td> 1</td></tr>\n",
       "\t<tr><td>0d4d71be33e2bc7266ee4983002bd930f69d304288a8663529c875f40f1750f3</td><td>13</td></tr>\n",
       "\t<tr><td>0d70dd9cac34d646c810b1846fe6a85b9e288a76f5dcab9c1ff1a0e7ca200b3a</td><td> 2</td></tr>\n",
       "\t<tr><td>11006065e9412650e99eea4a4aaaf0399bc338006f85e80cc82d18b49f0e2aa4</td><td> 1</td></tr>\n",
       "</tbody>\n",
       "</table>\n"
      ],
      "text/latex": [
       "A tibble: 6 × 2\n",
       "\\begin{tabular}{ll}\n",
       " hashed\\_email & session\\_count\\\\\n",
       " <chr> & <int>\\\\\n",
       "\\hline\n",
       "\t 0088b5e134c3f0498a18c7ea6b8d77b4b0ff1636fc93355ccc95b45423367832 &  2\\\\\n",
       "\t 060aca80f8cfbf1c91553a72f4d5ec8034764b05ab59fe8e1cf0eee9a7b67967 &  1\\\\\n",
       "\t 0ce7bfa910d47fc91f21a7b3acd8f33bde6db57912ce0290fa0437ce0b97f387 &  1\\\\\n",
       "\t 0d4d71be33e2bc7266ee4983002bd930f69d304288a8663529c875f40f1750f3 & 13\\\\\n",
       "\t 0d70dd9cac34d646c810b1846fe6a85b9e288a76f5dcab9c1ff1a0e7ca200b3a &  2\\\\\n",
       "\t 11006065e9412650e99eea4a4aaaf0399bc338006f85e80cc82d18b49f0e2aa4 &  1\\\\\n",
       "\\end{tabular}\n"
      ],
      "text/markdown": [
       "\n",
       "A tibble: 6 × 2\n",
       "\n",
       "| hashed_email &lt;chr&gt; | session_count &lt;int&gt; |\n",
       "|---|---|\n",
       "| 0088b5e134c3f0498a18c7ea6b8d77b4b0ff1636fc93355ccc95b45423367832 |  2 |\n",
       "| 060aca80f8cfbf1c91553a72f4d5ec8034764b05ab59fe8e1cf0eee9a7b67967 |  1 |\n",
       "| 0ce7bfa910d47fc91f21a7b3acd8f33bde6db57912ce0290fa0437ce0b97f387 |  1 |\n",
       "| 0d4d71be33e2bc7266ee4983002bd930f69d304288a8663529c875f40f1750f3 | 13 |\n",
       "| 0d70dd9cac34d646c810b1846fe6a85b9e288a76f5dcab9c1ff1a0e7ca200b3a |  2 |\n",
       "| 11006065e9412650e99eea4a4aaaf0399bc338006f85e80cc82d18b49f0e2aa4 |  1 |\n",
       "\n"
      ],
      "text/plain": [
       "  hashed_email                                                    \n",
       "1 0088b5e134c3f0498a18c7ea6b8d77b4b0ff1636fc93355ccc95b45423367832\n",
       "2 060aca80f8cfbf1c91553a72f4d5ec8034764b05ab59fe8e1cf0eee9a7b67967\n",
       "3 0ce7bfa910d47fc91f21a7b3acd8f33bde6db57912ce0290fa0437ce0b97f387\n",
       "4 0d4d71be33e2bc7266ee4983002bd930f69d304288a8663529c875f40f1750f3\n",
       "5 0d70dd9cac34d646c810b1846fe6a85b9e288a76f5dcab9c1ff1a0e7ca200b3a\n",
       "6 11006065e9412650e99eea4a4aaaf0399bc338006f85e80cc82d18b49f0e2aa4\n",
       "  session_count\n",
       "1  2           \n",
       "2  1           \n",
       "3  1           \n",
       "4 13           \n",
       "5  2           \n",
       "6  1           "
      ]
     },
     "metadata": {},
     "output_type": "display_data"
    }
   ],
   "source": [
    "sessions_by_email <- clean_session_data |>\n",
    "    group_by(hashed_email) |>\n",
    "    summarise(session_count = n())\n",
    "head(sessions_by_email)"
   ]
  },
  {
   "cell_type": "markdown",
   "id": "2de2360d-649e-41b7-b95a-0448f958bd02",
   "metadata": {},
   "source": [
    "Now that our data is clean, and our session data has hashed_emails linked to their session count, we can combine these two data sets into one, so we can more easily visualize it. We'll do this by matching our `hashed_email`s to each player, and adding the count column. We'll use `left_join` for this; we don't want to lose data from players that have no sessions, but it's okay if we lose data from sessions which we have no player data for (since we can't use this in our analysis). \n",
    "\n",
    "We'll also replace any NA counts with zero, because a count of NA means that the player had 0 sessions in our data.\n",
    "\n",
    "Since our data is combined, we also now can remove `hashed_email`."
   ]
  },
  {
   "cell_type": "code",
   "execution_count": 79,
   "id": "07d5c8ee-588e-40a0-baad-4932fa83f2ff",
   "metadata": {},
   "outputs": [
    {
     "data": {
      "text/html": [
       "<table class=\"dataframe\">\n",
       "<caption>A tibble: 6 × 3</caption>\n",
       "<thead>\n",
       "\t<tr><th scope=col>age</th><th scope=col>played_hours</th><th scope=col>session_count</th></tr>\n",
       "\t<tr><th scope=col>&lt;dbl&gt;</th><th scope=col>&lt;dbl&gt;</th><th scope=col>&lt;int&gt;</th></tr>\n",
       "</thead>\n",
       "<tbody>\n",
       "\t<tr><td> 9</td><td>30.3</td><td>27</td></tr>\n",
       "\t<tr><td>17</td><td> 3.8</td><td> 3</td></tr>\n",
       "\t<tr><td>17</td><td> 0.0</td><td> 1</td></tr>\n",
       "\t<tr><td>21</td><td> 0.7</td><td> 1</td></tr>\n",
       "\t<tr><td>21</td><td> 0.1</td><td> 1</td></tr>\n",
       "\t<tr><td>17</td><td> 0.0</td><td> 0</td></tr>\n",
       "</tbody>\n",
       "</table>\n"
      ],
      "text/latex": [
       "A tibble: 6 × 3\n",
       "\\begin{tabular}{lll}\n",
       " age & played\\_hours & session\\_count\\\\\n",
       " <dbl> & <dbl> & <int>\\\\\n",
       "\\hline\n",
       "\t  9 & 30.3 & 27\\\\\n",
       "\t 17 &  3.8 &  3\\\\\n",
       "\t 17 &  0.0 &  1\\\\\n",
       "\t 21 &  0.7 &  1\\\\\n",
       "\t 21 &  0.1 &  1\\\\\n",
       "\t 17 &  0.0 &  0\\\\\n",
       "\\end{tabular}\n"
      ],
      "text/markdown": [
       "\n",
       "A tibble: 6 × 3\n",
       "\n",
       "| age &lt;dbl&gt; | played_hours &lt;dbl&gt; | session_count &lt;int&gt; |\n",
       "|---|---|---|\n",
       "|  9 | 30.3 | 27 |\n",
       "| 17 |  3.8 |  3 |\n",
       "| 17 |  0.0 |  1 |\n",
       "| 21 |  0.7 |  1 |\n",
       "| 21 |  0.1 |  1 |\n",
       "| 17 |  0.0 |  0 |\n",
       "\n"
      ],
      "text/plain": [
       "  age played_hours session_count\n",
       "1  9  30.3         27           \n",
       "2 17   3.8          3           \n",
       "3 17   0.0          1           \n",
       "4 21   0.7          1           \n",
       "5 21   0.1          1           \n",
       "6 17   0.0          0           "
      ]
     },
     "metadata": {},
     "output_type": "display_data"
    }
   ],
   "source": [
    "combined_session_player_data <- left_join(clean_player_data, sessions_by_email, by = \"hashed_email\") |>\n",
    "    mutate(session_count = replace_na(session_count, 0)) |>\n",
    "    select(-hashed_email)\n",
    "head(combined_session_player_data)"
   ]
  },
  {
   "cell_type": "markdown",
   "id": "81132933-fc9b-4acf-853c-3ee3a645118f",
   "metadata": {},
   "source": [
    "Our data is now in one usable tibble. We can now start to cluster our data using K-means clustering. First, we create a recipe for our clusters, using all of our predictors. We'll only scale and centre age and session count, since our other two predictors are factors. We'll also create a model specification here (since we're using K-means clustering, we'll use the `k_means` model specification, and since we don't know a good value of K yet, we'll set `num_clusters = tune()`. We will also use the `stats` engine for our clustering.\n",
    "\n",
    "Note that `ps_*` in the following stands for `player_session_*`, to refer to our combined data."
   ]
  },
  {
   "cell_type": "code",
   "execution_count": 80,
   "id": "8d4e7735-d054-48f8-8142-497884e144fe",
   "metadata": {},
   "outputs": [],
   "source": [
    "ps_recipe <- recipe(~ ., data = combined_session_player_data) |>\n",
    "    step_scale(all_predictors()) |>\n",
    "    step_center(all_predictors())\n",
    "\n",
    "ps_spec <- k_means(num_clusters = tune()) |>\n",
    "    set_engine(\"stats\")\n",
    "\n"
   ]
  },
  {
   "cell_type": "markdown",
   "id": "94857d72-100e-4a2a-b9a9-f682b7be747d",
   "metadata": {},
   "source": [
    "Next, we need to find a good value of K for our clusters. We'll ultimately do this by graphing within-cluster sum-of-squared-distances (WSSD) versus K to find where K stops significantly decreasing (the \"elbow\" of the graph), but we start by picking a range of K values to test (here, 1-10, with a step of 1)."
   ]
  },
  {
   "cell_type": "code",
   "execution_count": 81,
   "id": "fcc2c103-84de-459a-8380-3c568c4d3bb1",
   "metadata": {},
   "outputs": [],
   "source": [
    "ps_k_vals <- tibble(num_clusters = 1:10)"
   ]
  },
  {
   "cell_type": "markdown",
   "id": "0664c2b9-4ba4-469e-ba7e-e07fffa82823",
   "metadata": {},
   "source": [
    "Now we create a workflow for testing the K values from 1 to 10. We'll add our recipe `ps_recipe`, and our model `ps_spec`, and then use `tune_cluster(resamples = apparent(combined_session_player_data), grid = ps_k_vals)` to tell K-means to run on our combined_session_player_data, and to use the `ps_k_vals` tibble to determine which K values to test. Finally, we'll use `collect_metrics` to actually get the results for each test."
   ]
  },
  {
   "cell_type": "code",
   "execution_count": 85,
   "id": "c34cf474-7f3c-4520-b1fb-4f1f0463ffaa",
   "metadata": {},
   "outputs": [
    {
     "data": {
      "text/html": [
       "<table class=\"dataframe\">\n",
       "<caption>A tibble: 20 × 7</caption>\n",
       "<thead>\n",
       "\t<tr><th scope=col>num_clusters</th><th scope=col>.metric</th><th scope=col>.estimator</th><th scope=col>mean</th><th scope=col>n</th><th scope=col>std_err</th><th scope=col>.config</th></tr>\n",
       "\t<tr><th scope=col>&lt;int&gt;</th><th scope=col>&lt;chr&gt;</th><th scope=col>&lt;chr&gt;</th><th scope=col>&lt;dbl&gt;</th><th scope=col>&lt;int&gt;</th><th scope=col>&lt;dbl&gt;</th><th scope=col>&lt;chr&gt;</th></tr>\n",
       "</thead>\n",
       "<tbody>\n",
       "\t<tr><td> 1</td><td>sse_total       </td><td>standard</td><td>579.00000</td><td>1</td><td>NA</td><td>Preprocessor1_Model01</td></tr>\n",
       "\t<tr><td> 1</td><td>sse_within_total</td><td>standard</td><td>579.00000</td><td>1</td><td>NA</td><td>Preprocessor1_Model01</td></tr>\n",
       "\t<tr><td> 2</td><td>sse_total       </td><td>standard</td><td>579.00000</td><td>1</td><td>NA</td><td>Preprocessor1_Model02</td></tr>\n",
       "\t<tr><td> 2</td><td>sse_within_total</td><td>standard</td><td>453.53947</td><td>1</td><td>NA</td><td>Preprocessor1_Model02</td></tr>\n",
       "\t<tr><td> 3</td><td>sse_total       </td><td>standard</td><td>579.00000</td><td>1</td><td>NA</td><td>Preprocessor1_Model03</td></tr>\n",
       "\t<tr><td> 3</td><td>sse_within_total</td><td>standard</td><td>147.45069</td><td>1</td><td>NA</td><td>Preprocessor1_Model03</td></tr>\n",
       "\t<tr><td> 4</td><td>sse_total       </td><td>standard</td><td>579.00000</td><td>1</td><td>NA</td><td>Preprocessor1_Model04</td></tr>\n",
       "\t<tr><td> 4</td><td>sse_within_total</td><td>standard</td><td>108.57799</td><td>1</td><td>NA</td><td>Preprocessor1_Model04</td></tr>\n",
       "\t<tr><td> 5</td><td>sse_total       </td><td>standard</td><td>579.00000</td><td>1</td><td>NA</td><td>Preprocessor1_Model05</td></tr>\n",
       "\t<tr><td> 5</td><td>sse_within_total</td><td>standard</td><td> 98.48104</td><td>1</td><td>NA</td><td>Preprocessor1_Model05</td></tr>\n",
       "\t<tr><td> 6</td><td>sse_total       </td><td>standard</td><td>579.00000</td><td>1</td><td>NA</td><td>Preprocessor1_Model06</td></tr>\n",
       "\t<tr><td> 6</td><td>sse_within_total</td><td>standard</td><td> 51.74542</td><td>1</td><td>NA</td><td>Preprocessor1_Model06</td></tr>\n",
       "\t<tr><td> 7</td><td>sse_total       </td><td>standard</td><td>579.00000</td><td>1</td><td>NA</td><td>Preprocessor1_Model07</td></tr>\n",
       "\t<tr><td> 7</td><td>sse_within_total</td><td>standard</td><td> 71.64186</td><td>1</td><td>NA</td><td>Preprocessor1_Model07</td></tr>\n",
       "\t<tr><td> 8</td><td>sse_total       </td><td>standard</td><td>579.00000</td><td>1</td><td>NA</td><td>Preprocessor1_Model08</td></tr>\n",
       "\t<tr><td> 8</td><td>sse_within_total</td><td>standard</td><td> 37.80300</td><td>1</td><td>NA</td><td>Preprocessor1_Model08</td></tr>\n",
       "\t<tr><td> 9</td><td>sse_total       </td><td>standard</td><td>579.00000</td><td>1</td><td>NA</td><td>Preprocessor1_Model09</td></tr>\n",
       "\t<tr><td> 9</td><td>sse_within_total</td><td>standard</td><td> 37.20124</td><td>1</td><td>NA</td><td>Preprocessor1_Model09</td></tr>\n",
       "\t<tr><td>10</td><td>sse_total       </td><td>standard</td><td>579.00000</td><td>1</td><td>NA</td><td>Preprocessor1_Model10</td></tr>\n",
       "\t<tr><td>10</td><td>sse_within_total</td><td>standard</td><td> 30.08374</td><td>1</td><td>NA</td><td>Preprocessor1_Model10</td></tr>\n",
       "</tbody>\n",
       "</table>\n"
      ],
      "text/latex": [
       "A tibble: 20 × 7\n",
       "\\begin{tabular}{lllllll}\n",
       " num\\_clusters & .metric & .estimator & mean & n & std\\_err & .config\\\\\n",
       " <int> & <chr> & <chr> & <dbl> & <int> & <dbl> & <chr>\\\\\n",
       "\\hline\n",
       "\t  1 & sse\\_total        & standard & 579.00000 & 1 & NA & Preprocessor1\\_Model01\\\\\n",
       "\t  1 & sse\\_within\\_total & standard & 579.00000 & 1 & NA & Preprocessor1\\_Model01\\\\\n",
       "\t  2 & sse\\_total        & standard & 579.00000 & 1 & NA & Preprocessor1\\_Model02\\\\\n",
       "\t  2 & sse\\_within\\_total & standard & 453.53947 & 1 & NA & Preprocessor1\\_Model02\\\\\n",
       "\t  3 & sse\\_total        & standard & 579.00000 & 1 & NA & Preprocessor1\\_Model03\\\\\n",
       "\t  3 & sse\\_within\\_total & standard & 147.45069 & 1 & NA & Preprocessor1\\_Model03\\\\\n",
       "\t  4 & sse\\_total        & standard & 579.00000 & 1 & NA & Preprocessor1\\_Model04\\\\\n",
       "\t  4 & sse\\_within\\_total & standard & 108.57799 & 1 & NA & Preprocessor1\\_Model04\\\\\n",
       "\t  5 & sse\\_total        & standard & 579.00000 & 1 & NA & Preprocessor1\\_Model05\\\\\n",
       "\t  5 & sse\\_within\\_total & standard &  98.48104 & 1 & NA & Preprocessor1\\_Model05\\\\\n",
       "\t  6 & sse\\_total        & standard & 579.00000 & 1 & NA & Preprocessor1\\_Model06\\\\\n",
       "\t  6 & sse\\_within\\_total & standard &  51.74542 & 1 & NA & Preprocessor1\\_Model06\\\\\n",
       "\t  7 & sse\\_total        & standard & 579.00000 & 1 & NA & Preprocessor1\\_Model07\\\\\n",
       "\t  7 & sse\\_within\\_total & standard &  71.64186 & 1 & NA & Preprocessor1\\_Model07\\\\\n",
       "\t  8 & sse\\_total        & standard & 579.00000 & 1 & NA & Preprocessor1\\_Model08\\\\\n",
       "\t  8 & sse\\_within\\_total & standard &  37.80300 & 1 & NA & Preprocessor1\\_Model08\\\\\n",
       "\t  9 & sse\\_total        & standard & 579.00000 & 1 & NA & Preprocessor1\\_Model09\\\\\n",
       "\t  9 & sse\\_within\\_total & standard &  37.20124 & 1 & NA & Preprocessor1\\_Model09\\\\\n",
       "\t 10 & sse\\_total        & standard & 579.00000 & 1 & NA & Preprocessor1\\_Model10\\\\\n",
       "\t 10 & sse\\_within\\_total & standard &  30.08374 & 1 & NA & Preprocessor1\\_Model10\\\\\n",
       "\\end{tabular}\n"
      ],
      "text/markdown": [
       "\n",
       "A tibble: 20 × 7\n",
       "\n",
       "| num_clusters &lt;int&gt; | .metric &lt;chr&gt; | .estimator &lt;chr&gt; | mean &lt;dbl&gt; | n &lt;int&gt; | std_err &lt;dbl&gt; | .config &lt;chr&gt; |\n",
       "|---|---|---|---|---|---|---|\n",
       "|  1 | sse_total        | standard | 579.00000 | 1 | NA | Preprocessor1_Model01 |\n",
       "|  1 | sse_within_total | standard | 579.00000 | 1 | NA | Preprocessor1_Model01 |\n",
       "|  2 | sse_total        | standard | 579.00000 | 1 | NA | Preprocessor1_Model02 |\n",
       "|  2 | sse_within_total | standard | 453.53947 | 1 | NA | Preprocessor1_Model02 |\n",
       "|  3 | sse_total        | standard | 579.00000 | 1 | NA | Preprocessor1_Model03 |\n",
       "|  3 | sse_within_total | standard | 147.45069 | 1 | NA | Preprocessor1_Model03 |\n",
       "|  4 | sse_total        | standard | 579.00000 | 1 | NA | Preprocessor1_Model04 |\n",
       "|  4 | sse_within_total | standard | 108.57799 | 1 | NA | Preprocessor1_Model04 |\n",
       "|  5 | sse_total        | standard | 579.00000 | 1 | NA | Preprocessor1_Model05 |\n",
       "|  5 | sse_within_total | standard |  98.48104 | 1 | NA | Preprocessor1_Model05 |\n",
       "|  6 | sse_total        | standard | 579.00000 | 1 | NA | Preprocessor1_Model06 |\n",
       "|  6 | sse_within_total | standard |  51.74542 | 1 | NA | Preprocessor1_Model06 |\n",
       "|  7 | sse_total        | standard | 579.00000 | 1 | NA | Preprocessor1_Model07 |\n",
       "|  7 | sse_within_total | standard |  71.64186 | 1 | NA | Preprocessor1_Model07 |\n",
       "|  8 | sse_total        | standard | 579.00000 | 1 | NA | Preprocessor1_Model08 |\n",
       "|  8 | sse_within_total | standard |  37.80300 | 1 | NA | Preprocessor1_Model08 |\n",
       "|  9 | sse_total        | standard | 579.00000 | 1 | NA | Preprocessor1_Model09 |\n",
       "|  9 | sse_within_total | standard |  37.20124 | 1 | NA | Preprocessor1_Model09 |\n",
       "| 10 | sse_total        | standard | 579.00000 | 1 | NA | Preprocessor1_Model10 |\n",
       "| 10 | sse_within_total | standard |  30.08374 | 1 | NA | Preprocessor1_Model10 |\n",
       "\n"
      ],
      "text/plain": [
       "   num_clusters .metric          .estimator mean      n std_err\n",
       "1   1           sse_total        standard   579.00000 1 NA     \n",
       "2   1           sse_within_total standard   579.00000 1 NA     \n",
       "3   2           sse_total        standard   579.00000 1 NA     \n",
       "4   2           sse_within_total standard   453.53947 1 NA     \n",
       "5   3           sse_total        standard   579.00000 1 NA     \n",
       "6   3           sse_within_total standard   147.45069 1 NA     \n",
       "7   4           sse_total        standard   579.00000 1 NA     \n",
       "8   4           sse_within_total standard   108.57799 1 NA     \n",
       "9   5           sse_total        standard   579.00000 1 NA     \n",
       "10  5           sse_within_total standard    98.48104 1 NA     \n",
       "11  6           sse_total        standard   579.00000 1 NA     \n",
       "12  6           sse_within_total standard    51.74542 1 NA     \n",
       "13  7           sse_total        standard   579.00000 1 NA     \n",
       "14  7           sse_within_total standard    71.64186 1 NA     \n",
       "15  8           sse_total        standard   579.00000 1 NA     \n",
       "16  8           sse_within_total standard    37.80300 1 NA     \n",
       "17  9           sse_total        standard   579.00000 1 NA     \n",
       "18  9           sse_within_total standard    37.20124 1 NA     \n",
       "19 10           sse_total        standard   579.00000 1 NA     \n",
       "20 10           sse_within_total standard    30.08374 1 NA     \n",
       "   .config              \n",
       "1  Preprocessor1_Model01\n",
       "2  Preprocessor1_Model01\n",
       "3  Preprocessor1_Model02\n",
       "4  Preprocessor1_Model02\n",
       "5  Preprocessor1_Model03\n",
       "6  Preprocessor1_Model03\n",
       "7  Preprocessor1_Model04\n",
       "8  Preprocessor1_Model04\n",
       "9  Preprocessor1_Model05\n",
       "10 Preprocessor1_Model05\n",
       "11 Preprocessor1_Model06\n",
       "12 Preprocessor1_Model06\n",
       "13 Preprocessor1_Model07\n",
       "14 Preprocessor1_Model07\n",
       "15 Preprocessor1_Model08\n",
       "16 Preprocessor1_Model08\n",
       "17 Preprocessor1_Model09\n",
       "18 Preprocessor1_Model09\n",
       "19 Preprocessor1_Model10\n",
       "20 Preprocessor1_Model10"
      ]
     },
     "metadata": {},
     "output_type": "display_data"
    }
   ],
   "source": [
    "k_val_metrics <- workflow() |>\n",
    "    add_recipe(ps_recipe) |>\n",
    "    add_model(ps_spec) |>\n",
    "    tune_cluster(resamples = apparent(combined_session_player_data), grid = ps_k_vals) |>\n",
    "    collect_metrics()\n",
    "k_val_metrics"
   ]
  },
  {
   "cell_type": "code",
   "execution_count": null,
   "id": "41130f08-99f3-4f56-90ca-a40707c97a69",
   "metadata": {},
   "outputs": [],
   "source": []
  },
  {
   "cell_type": "markdown",
   "id": "a0300f83-c776-456b-980f-c85af61754ea",
   "metadata": {},
   "source": [
    "These metrics aren't very useful to us in their current form, so we'll filter `.metric` to only include the metric `sse_within_total`, which is the only metric we want to look at. We'll also select for only the `num_clusters` and `mean` columns, as those are our relevant data points for graphing. (The `mean` column when `.metric == 'sse_within_total'` is our total WSSD value)."
   ]
  },
  {
   "cell_type": "code",
   "execution_count": 86,
   "id": "a97a3df9-7769-40e8-b068-873df07d82f3",
   "metadata": {},
   "outputs": [
    {
     "data": {
      "text/html": [
       "<table class=\"dataframe\">\n",
       "<caption>A tibble: 10 × 2</caption>\n",
       "<thead>\n",
       "\t<tr><th scope=col>num_clusters</th><th scope=col>mean</th></tr>\n",
       "\t<tr><th scope=col>&lt;int&gt;</th><th scope=col>&lt;dbl&gt;</th></tr>\n",
       "</thead>\n",
       "<tbody>\n",
       "\t<tr><td> 1</td><td>579.00000</td></tr>\n",
       "\t<tr><td> 2</td><td>453.53947</td></tr>\n",
       "\t<tr><td> 3</td><td>147.45069</td></tr>\n",
       "\t<tr><td> 4</td><td>108.57799</td></tr>\n",
       "\t<tr><td> 5</td><td> 98.48104</td></tr>\n",
       "\t<tr><td> 6</td><td> 51.74542</td></tr>\n",
       "\t<tr><td> 7</td><td> 71.64186</td></tr>\n",
       "\t<tr><td> 8</td><td> 37.80300</td></tr>\n",
       "\t<tr><td> 9</td><td> 37.20124</td></tr>\n",
       "\t<tr><td>10</td><td> 30.08374</td></tr>\n",
       "</tbody>\n",
       "</table>\n"
      ],
      "text/latex": [
       "A tibble: 10 × 2\n",
       "\\begin{tabular}{ll}\n",
       " num\\_clusters & mean\\\\\n",
       " <int> & <dbl>\\\\\n",
       "\\hline\n",
       "\t  1 & 579.00000\\\\\n",
       "\t  2 & 453.53947\\\\\n",
       "\t  3 & 147.45069\\\\\n",
       "\t  4 & 108.57799\\\\\n",
       "\t  5 &  98.48104\\\\\n",
       "\t  6 &  51.74542\\\\\n",
       "\t  7 &  71.64186\\\\\n",
       "\t  8 &  37.80300\\\\\n",
       "\t  9 &  37.20124\\\\\n",
       "\t 10 &  30.08374\\\\\n",
       "\\end{tabular}\n"
      ],
      "text/markdown": [
       "\n",
       "A tibble: 10 × 2\n",
       "\n",
       "| num_clusters &lt;int&gt; | mean &lt;dbl&gt; |\n",
       "|---|---|\n",
       "|  1 | 579.00000 |\n",
       "|  2 | 453.53947 |\n",
       "|  3 | 147.45069 |\n",
       "|  4 | 108.57799 |\n",
       "|  5 |  98.48104 |\n",
       "|  6 |  51.74542 |\n",
       "|  7 |  71.64186 |\n",
       "|  8 |  37.80300 |\n",
       "|  9 |  37.20124 |\n",
       "| 10 |  30.08374 |\n",
       "\n"
      ],
      "text/plain": [
       "   num_clusters mean     \n",
       "1   1           579.00000\n",
       "2   2           453.53947\n",
       "3   3           147.45069\n",
       "4   4           108.57799\n",
       "5   5            98.48104\n",
       "6   6            51.74542\n",
       "7   7            71.64186\n",
       "8   8            37.80300\n",
       "9   9            37.20124\n",
       "10 10            30.08374"
      ]
     },
     "metadata": {},
     "output_type": "display_data"
    }
   ],
   "source": [
    "filtered_metrics <- k_val_metrics |>\n",
    "    filter(.metric == \"sse_within_total\") |>\n",
    "    select(num_clusters, mean)\n",
    "filtered_metrics"
   ]
  },
  {
   "cell_type": "markdown",
   "id": "34059280-6444-4e4d-b6e6-b8f6b68d52f1",
   "metadata": {},
   "source": [
    "Our data here looks good. Let's graph it to find out where the \"elbow\" on our plot is."
   ]
  },
  {
   "cell_type": "code",
   "execution_count": null,
   "id": "94d23739-b2b7-4744-836e-a3185d4f95d9",
   "metadata": {},
   "outputs": [],
   "source": [
    "k_val_plot <- num_clusters |> \n",
    "    filtered_metrics()"
   ]
  }
 ],
 "metadata": {
  "kernelspec": {
   "display_name": "R",
   "language": "R",
   "name": "ir"
  },
  "language_info": {
   "codemirror_mode": "r",
   "file_extension": ".r",
   "mimetype": "text/x-r-source",
   "name": "R",
   "pygments_lexer": "r",
   "version": "4.3.3"
  }
 },
 "nbformat": 4,
 "nbformat_minor": 5
}
